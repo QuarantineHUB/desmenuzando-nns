{
 "cells": [
  {
   "cell_type": "markdown",
   "metadata": {},
   "source": [
    "# Instala paquetes en Colab\n",
    "\n",
    "Puedes instalar la mayoria de paquetes usando *pip* junto con *!*:"
   ]
  },
  {
   "cell_type": "code",
   "execution_count": null,
   "metadata": {},
   "outputs": [],
   "source": [
    "! pip install tu-paquete-favorito"
   ]
  },
  {
   "cell_type": "markdown",
   "metadata": {},
   "source": [
    "El signo de explamacion le dice a colab/jupyter que se ejecute un command via el sistema"
   ]
  },
  {
   "cell_type": "markdown",
   "metadata": {},
   "source": [
    "## Alternativa via subprocess"
   ]
  },
  {
   "cell_type": "code",
   "execution_count": null,
   "metadata": {},
   "outputs": [],
   "source": [
    "import subprocess\n",
    "\n",
    "def run_cmd(cmd):\n",
    "    print('Output of \"{}\":'.format(cmd))\n",
    "    print(subprocess.run(cmd,stdout=subprocess.PIPE, shell=True).stdout.decode('utf-8'))\n",
    "        \n",
    "\n",
    "run_cmd('pip install tu-paquete-favorito')"
   ]
  },
  {
   "cell_type": "markdown",
   "metadata": {},
   "source": [
    "# Boton de colab\n",
    "\n",
    "Codigo:\n",
    "```\n",
    "<a href=\"https://colab.research.google.com/github/riiaa19_workshop_template/blob/master/notebooks/1_ML_dia_a_dia.ipynb\" target=\"_parent\"><img src=\"https://colab.research.google.com/assets/colab-badge.svg\" alt=\"Open In Colab\"/></a>\n",
    "```\n",
    "Crea este boton, ojo con el github repo url y notebook name:\n",
    "<a href=\"https://colab.research.google.com/github/riiaa19_workshop_template/blob/master/notebooks/1_ML_dia_a_dia.ipynb\" target=\"_parent\"><img src=\"https://colab.research.google.com/assets/colab-badge.svg\" alt=\"Open In Colab\"/></a>"
   ]
  },
  {
   "cell_type": "markdown",
   "metadata": {},
   "source": [
    "# Codigo condicional a Colab/Jupyter\n",
    "\n",
    "Quieres tener un bloque de codigo que sea condicional a si se corre localmente con Jupyter o via colab?"
   ]
  },
  {
   "cell_type": "code",
   "execution_count": 1,
   "metadata": {
    "ExecuteTime": {
     "end_time": "2019-08-14T22:24:52.187746Z",
     "start_time": "2019-08-14T22:24:52.182219Z"
    }
   },
   "outputs": [
    {
     "name": "stdout",
     "output_type": "stream",
     "text": [
      "probablemente en jupyter\n"
     ]
    }
   ],
   "source": [
    "import sys\n",
    "\n",
    "IN_COLAB = 'google.colab' in sys.modules\n",
    "\n",
    "if IN_COLAB:\n",
    "    print('usando colab')\n",
    "else:\n",
    "    print('probablemente en jupyter')\n",
    "    "
   ]
  },
  {
   "cell_type": "markdown",
   "metadata": {},
   "source": [
    "# Clonando un github en colab"
   ]
  },
  {
   "cell_type": "code",
   "execution_count": 2,
   "metadata": {
    "ExecuteTime": {
     "end_time": "2019-08-14T22:26:23.502356Z",
     "start_time": "2019-08-14T22:26:23.487228Z"
    }
   },
   "outputs": [
    {
     "name": "stdout",
     "output_type": "stream",
     "text": [
      "Using colab? False, using root directory \"..\"\n"
     ]
    }
   ],
   "source": [
    "import os\n",
    "import subprocess\n",
    "import sys\n",
    "\n",
    "GIT_NAME='riiaa19_workshop_template'\n",
    "GIT_URL='https://riiaa@github.com/riiaa/{}.git'.format(GIT_NAME)\n",
    "IN_COLAB = 'google.colab' in sys.modules\n",
    "\n",
    "def run_cmd(cmd):\n",
    "    print('Output of \"{}\":'.format(cmd))\n",
    "    print(subprocess.run(cmd,stdout=subprocess.PIPE, shell=True).stdout.decode('utf-8'))\n",
    "        \n",
    "if IN_COLAB:\n",
    "    SRC_DIR='.'\n",
    "    run_cmd('sudo apt-get install git-lfs')\n",
    "    run_cmd('git lfs install')\n",
    "    run_cmd('rm -rf sample_data')\n",
    "    run_cmd('rm -rf {}'.format(GIT_NAME))\n",
    "    run_cmd('git clone --verbose --progress {}'.format(GIT_URL))\n",
    "    run_cmd('mv {}/* . '.format(GIT_NAME))\n",
    "    run_cmd('rm -rf {}'.format(GIT_NAME))\n",
    "else:\n",
    "    SRC_DIR='..'\n",
    "    \n",
    "print('Using colab? {}, using root directory \"{}\"'.format(IN_COLAB,SRC_DIR))"
   ]
  },
  {
   "cell_type": "markdown",
   "metadata": {
    "ExecuteTime": {
     "end_time": "2019-08-14T22:31:19.177748Z",
     "start_time": "2019-08-14T22:31:19.173382Z"
    }
   },
   "source": [
    "# Agregando el path de 'code'  (del github) al path de python"
   ]
  },
  {
   "cell_type": "code",
   "execution_count": 5,
   "metadata": {
    "ExecuteTime": {
     "end_time": "2019-08-16T20:18:49.960434Z",
     "start_time": "2019-08-16T20:18:49.942575Z"
    }
   },
   "outputs": [],
   "source": [
    "import sys, os\n",
    "\n",
    "IN_COLAB = 'google.colab' in sys.modules\n",
    "if IN_COLAB:\n",
    "    SRC_DIR='.'\n",
    "else:\n",
    "    SRC_DIR='..'\n",
    "    \n",
    "sys.path.append(os.path.join(SRC_DIR,'code'))\n",
    "import utils"
   ]
  },
  {
   "cell_type": "code",
   "execution_count": 8,
   "metadata": {
    "ExecuteTime": {
     "end_time": "2019-08-16T20:19:20.475912Z",
     "start_time": "2019-08-16T20:19:20.467427Z"
    }
   },
   "outputs": [
    {
     "data": {
      "text/html": [
       "<h1>Header</h1>"
      ],
      "text/plain": [
       "<IPython.core.display.HTML object>"
      ]
     },
     "metadata": {},
     "output_type": "display_data"
    },
    {
     "data": {
      "text/html": [
       "<h2>Header</h2>"
      ],
      "text/plain": [
       "<IPython.core.display.HTML object>"
      ]
     },
     "metadata": {},
     "output_type": "display_data"
    },
    {
     "data": {
      "text/html": [
       "<h3>Header</h3>"
      ],
      "text/plain": [
       "<IPython.core.display.HTML object>"
      ]
     },
     "metadata": {},
     "output_type": "display_data"
    },
    {
     "data": {
      "text/html": [
       "<h4>Header</h4>"
      ],
      "text/plain": [
       "<IPython.core.display.HTML object>"
      ]
     },
     "metadata": {},
     "output_type": "display_data"
    }
   ],
   "source": [
    "for i in range(1,5):\n",
    "    utils.header_html('Header',i)"
   ]
  },
  {
   "cell_type": "markdown",
   "metadata": {},
   "source": [
    "# For loop con tqdm"
   ]
  },
  {
   "cell_type": "code",
   "execution_count": 10,
   "metadata": {
    "ExecuteTime": {
     "end_time": "2019-08-16T20:20:27.842122Z",
     "start_time": "2019-08-16T20:20:17.745423Z"
    }
   },
   "outputs": [
    {
     "data": {
      "application/vnd.jupyter.widget-view+json": {
       "model_id": "d384260f9271464089775b3edade408d",
       "version_major": 2,
       "version_minor": 0
      },
      "text/plain": [
       "HBox(children=(IntProgress(value=0, max=10), HTML(value='')))"
      ]
     },
     "metadata": {},
     "output_type": "display_data"
    },
    {
     "name": "stdout",
     "output_type": "stream",
     "text": [
      "\n"
     ]
    }
   ],
   "source": [
    "from tqdm.autonotebook import tqdm\n",
    "import time\n",
    "\n",
    "for i in tqdm(range(10)):\n",
    "    time.sleep(1)"
   ]
  }
 ],
 "metadata": {
  "kernelspec": {
   "display_name": "Python 3",
   "language": "python",
   "name": "python3"
  },
  "language_info": {
   "codemirror_mode": {
    "name": "ipython",
    "version": 3
   },
   "file_extension": ".py",
   "mimetype": "text/x-python",
   "name": "python",
   "nbconvert_exporter": "python",
   "pygments_lexer": "ipython3",
   "version": "3.7.3"
  },
  "toc": {
   "base_numbering": 1,
   "nav_menu": {},
   "number_sections": true,
   "sideBar": true,
   "skip_h1_title": false,
   "title_cell": "Table of Contents",
   "title_sidebar": "Contents",
   "toc_cell": false,
   "toc_position": {},
   "toc_section_display": true,
   "toc_window_display": false
  }
 },
 "nbformat": 4,
 "nbformat_minor": 2
}
