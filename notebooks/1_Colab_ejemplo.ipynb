{
 "cells": [
  {
   "cell_type": "markdown",
   "metadata": {
    "toc": true
   },
   "source": [
    "<h1>Table of Contents<span class=\"tocSkip\"></span></h1>\n",
    "<div class=\"toc\"><ul class=\"toc-item\"><li><span><a href=\"#Titulo-Part-1:\" data-toc-modified-id=\"Titulo-Part-1:-1\"><span class=\"toc-item-num\">1&nbsp;&nbsp;</span>Titulo Part 1:</a></span><ul class=\"toc-item\"><li><span><a href=\"#Clonar-repo-en-colab\" data-toc-modified-id=\"Clonar-repo-en-colab-1.1\"><span class=\"toc-item-num\">1.1&nbsp;&nbsp;</span>Clonar repo en colab</a></span></li><li><span><a href=\"#Modulos-basicos\" data-toc-modified-id=\"Modulos-basicos-1.2\"><span class=\"toc-item-num\">1.2&nbsp;&nbsp;</span>Modulos basicos</a></span></li><li><span><a href=\"#Modulos-locales-al-repo\" data-toc-modified-id=\"Modulos-locales-al-repo-1.3\"><span class=\"toc-item-num\">1.3&nbsp;&nbsp;</span>Modulos locales al repo</a></span></li><li><span><a href=\"#Variables-importantes-del-notebook\" data-toc-modified-id=\"Variables-importantes-del-notebook-1.4\"><span class=\"toc-item-num\">1.4&nbsp;&nbsp;</span>Variables importantes del notebook</a></span></li></ul></li><li><span><a href=\"#Empezamos-a-manejar-esos-datos\" data-toc-modified-id=\"Empezamos-a-manejar-esos-datos-2\"><span class=\"toc-item-num\">2&nbsp;&nbsp;</span>Empezamos a manejar esos datos</a></span><ul class=\"toc-item\"><li><span><a href=\"#Cargar-datos\" data-toc-modified-id=\"Cargar-datos-2.1\"><span class=\"toc-item-num\">2.1&nbsp;&nbsp;</span>Cargar datos</a></span></li><li><span><a href=\"#Preprocesamiento\" data-toc-modified-id=\"Preprocesamiento-2.2\"><span class=\"toc-item-num\">2.2&nbsp;&nbsp;</span>Preprocesamiento</a></span></li><li><span><a href=\"#Exploratory-data-analysis-(EDA)\" data-toc-modified-id=\"Exploratory-data-analysis-(EDA)-2.3\"><span class=\"toc-item-num\">2.3&nbsp;&nbsp;</span>Exploratory data analysis (EDA)</a></span></li></ul></li><li><span><a href=\"#ML\" data-toc-modified-id=\"ML-3\"><span class=\"toc-item-num\">3&nbsp;&nbsp;</span>ML</a></span><ul class=\"toc-item\"><li><span><a href=\"#Data-design-matrix-($X$,-$Y$)\" data-toc-modified-id=\"Data-design-matrix-($X$,-$Y$)-3.1\"><span class=\"toc-item-num\">3.1&nbsp;&nbsp;</span>Data design matrix ($X$, $Y$)</a></span></li></ul></li></ul></div>"
   ]
  },
  {
   "cell_type": "markdown",
   "metadata": {},
   "source": [
    "# Titulo Part 1:\n",
    "\n",
    "Ejecutar este notebook via colab:\n",
    "<a href=\"https://colab.research.google.com/github/riiaa19_workshop_template/blob/master/notebooks/11_Colab_ejemplo.ipynb\" target=\"_parent\"><img src=\"https://colab.research.google.com/assets/colab-badge.svg\" alt=\"Open In Colab\"/></a>"
   ]
  },
  {
   "cell_type": "markdown",
   "metadata": {},
   "source": [
    "## Clonar repo en colab"
   ]
  },
  {
   "cell_type": "code",
   "execution_count": 5,
   "metadata": {
    "ExecuteTime": {
     "end_time": "2019-08-16T20:24:26.450965Z",
     "start_time": "2019-08-16T20:24:26.429214Z"
    }
   },
   "outputs": [
    {
     "name": "stdout",
     "output_type": "stream",
     "text": [
      "Using colab? False, using root directory \"..\"\n"
     ]
    }
   ],
   "source": [
    "import os\n",
    "import subprocess\n",
    "import sys\n",
    "\n",
    "GIT_NAME='riiaa19_workshop_template'\n",
    "GIT_URL='https://riiaa@github.com/riiaa/{}.git'.format(GIT_NAME)\n",
    "IN_COLAB = 'google.colab' in sys.modules\n",
    "\n",
    "def run_cmd(cmd):\n",
    "    print('Output of \"{}\":'.format(cmd))\n",
    "    print(subprocess.run(cmd,stdout=subprocess.PIPE, shell=True).stdout.decode('utf-8'))\n",
    "        \n",
    "if IN_COLAB:\n",
    "    SRC_DIR='.'\n",
    "    run_cmd('sudo apt-get install git-lfs')\n",
    "    run_cmd('git lfs install')\n",
    "    run_cmd('rm -rf sample_data')\n",
    "    run_cmd('rm -rf {}'.format(GIT_NAME))\n",
    "    run_cmd('git clone --verbose --progress {}'.format(GIT_URL))\n",
    "    run_cmd('mv {}/* . '.format(GIT_NAME))\n",
    "    run_cmd('rm -rf {}'.format(GIT_NAME))\n",
    "else:\n",
    "    SRC_DIR='..'\n",
    "    \n",
    "print('Using colab? {}, using root directory \"{}\"'.format(IN_COLAB,SRC_DIR))"
   ]
  },
  {
   "cell_type": "markdown",
   "metadata": {},
   "source": [
    "## Modulos basicos"
   ]
  },
  {
   "cell_type": "code",
   "execution_count": 6,
   "metadata": {
    "ExecuteTime": {
     "end_time": "2019-08-16T20:24:28.274556Z",
     "start_time": "2019-08-16T20:24:27.064147Z"
    }
   },
   "outputs": [
    {
     "name": "stderr",
     "output_type": "stream",
     "text": [
      "/home/beangoben/anaconda3/lib/python3.7/site-packages/tqdm/autonotebook/__init__.py:14: TqdmExperimentalWarning: Using `tqdm.autonotebook.tqdm` in notebook mode. Use `tqdm.tqdm` instead to force console mode (e.g. in jupyter console)\n",
      "  \" (e.g. in jupyter console)\", TqdmExperimentalWarning)\n"
     ]
    }
   ],
   "source": [
    "import os\n",
    "import sys\n",
    "from tqdm.autonotebook import tqdm\n",
    "\n",
    "import matplotlib.pyplot as plt\n",
    "import numpy as np\n",
    "import pandas as pd\n",
    "import scipy as sc\n",
    "import seaborn as sns\n",
    "import sklearn"
   ]
  },
  {
   "cell_type": "markdown",
   "metadata": {},
   "source": [
    "## Modulos locales al repo"
   ]
  },
  {
   "cell_type": "code",
   "execution_count": 7,
   "metadata": {
    "ExecuteTime": {
     "end_time": "2019-08-16T20:24:28.279991Z",
     "start_time": "2019-08-16T20:24:28.276743Z"
    }
   },
   "outputs": [],
   "source": [
    "sys.path.append(os.path.join(SRC_DIR,'code'))\n",
    "import utils"
   ]
  },
  {
   "cell_type": "markdown",
   "metadata": {},
   "source": [
    "## Variables importantes del notebook"
   ]
  },
  {
   "cell_type": "code",
   "execution_count": 8,
   "metadata": {
    "ExecuteTime": {
     "end_time": "2019-08-16T20:24:28.763859Z",
     "start_time": "2019-08-16T20:24:28.755398Z"
    }
   },
   "outputs": [],
   "source": [
    "data_path = os.path.join(SRC_DIR,'data')"
   ]
  },
  {
   "cell_type": "markdown",
   "metadata": {},
   "source": [
    "# Empezamos a manejar esos datos\n",
    "## Cargar datos"
   ]
  },
  {
   "cell_type": "code",
   "execution_count": 10,
   "metadata": {
    "ExecuteTime": {
     "end_time": "2019-08-16T20:24:41.593272Z",
     "start_time": "2019-08-16T20:24:41.554423Z"
    }
   },
   "outputs": [
    {
     "data": {
      "text/html": [
       "<div>\n",
       "<style scoped>\n",
       "    .dataframe tbody tr th:only-of-type {\n",
       "        vertical-align: middle;\n",
       "    }\n",
       "\n",
       "    .dataframe tbody tr th {\n",
       "        vertical-align: top;\n",
       "    }\n",
       "\n",
       "    .dataframe thead th {\n",
       "        text-align: right;\n",
       "    }\n",
       "</style>\n",
       "<table border=\"1\" class=\"dataframe\">\n",
       "  <thead>\n",
       "    <tr style=\"text-align: right;\">\n",
       "      <th></th>\n",
       "      <th>Label</th>\n",
       "      <th>A</th>\n",
       "      <th>B</th>\n",
       "      <th>Target</th>\n",
       "    </tr>\n",
       "  </thead>\n",
       "  <tbody>\n",
       "    <tr>\n",
       "      <th>0</th>\n",
       "      <td>test1</td>\n",
       "      <td>0.2</td>\n",
       "      <td>Red</td>\n",
       "      <td>0</td>\n",
       "    </tr>\n",
       "    <tr>\n",
       "      <th>1</th>\n",
       "      <td>test2</td>\n",
       "      <td>0.3</td>\n",
       "      <td>Green</td>\n",
       "      <td>1</td>\n",
       "    </tr>\n",
       "  </tbody>\n",
       "</table>\n",
       "</div>"
      ],
      "text/plain": [
       "   Label    A      B  Target\n",
       "0  test1  0.2    Red       0\n",
       "1  test2  0.3  Green       1"
      ]
     },
     "execution_count": 10,
     "metadata": {},
     "output_type": "execute_result"
    }
   ],
   "source": [
    "df = pd.read_csv(os.path.join(data_path,'Example.csv'))\n",
    "df.head()"
   ]
  },
  {
   "cell_type": "markdown",
   "metadata": {},
   "source": [
    "## Preprocesamiento"
   ]
  },
  {
   "cell_type": "markdown",
   "metadata": {},
   "source": [
    "## Exploratory data analysis (EDA)"
   ]
  },
  {
   "cell_type": "markdown",
   "metadata": {},
   "source": [
    "# ML\n",
    "## Data design matrix ($X$, $Y$)"
   ]
  },
  {
   "cell_type": "code",
   "execution_count": null,
   "metadata": {},
   "outputs": [],
   "source": []
  }
 ],
 "metadata": {
  "kernelspec": {
   "display_name": "Python 3",
   "language": "python",
   "name": "python3"
  },
  "language_info": {
   "codemirror_mode": {
    "name": "ipython",
    "version": 3
   },
   "file_extension": ".py",
   "mimetype": "text/x-python",
   "name": "python",
   "nbconvert_exporter": "python",
   "pygments_lexer": "ipython3",
   "version": "3.7.3"
  },
  "toc": {
   "base_numbering": 1,
   "nav_menu": {},
   "number_sections": true,
   "sideBar": true,
   "skip_h1_title": false,
   "title_cell": "Table of Contents",
   "title_sidebar": "Contents",
   "toc_cell": true,
   "toc_position": {},
   "toc_section_display": true,
   "toc_window_display": true
  }
 },
 "nbformat": 4,
 "nbformat_minor": 2
}
